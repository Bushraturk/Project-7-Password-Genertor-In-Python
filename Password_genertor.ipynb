{
  "nbformat": 4,
  "nbformat_minor": 0,
  "metadata": {
    "colab": {
      "provenance": [],
      "authorship_tag": "ABX9TyOK0jGtlytDj7qW7SbFCE+Y",
      "include_colab_link": true
    },
    "kernelspec": {
      "name": "python3",
      "display_name": "Python 3"
    },
    "language_info": {
      "name": "python"
    }
  },
  "cells": [
    {
      "cell_type": "markdown",
      "metadata": {
        "id": "view-in-github",
        "colab_type": "text"
      },
      "source": [
        "<a href=\"https://colab.research.google.com/github/Bushraturk/Project-7-Password-Genertor-In-Python/blob/main/Password_genertor.ipynb\" target=\"_parent\"><img src=\"https://colab.research.google.com/assets/colab-badge.svg\" alt=\"Open In Colab\"/></a>"
      ]
    },
    {
      "cell_type": "markdown",
      "source": [
        "# Project 7 : Password Genertor In Python\n",
        "# New Section"
      ],
      "metadata": {
        "id": "e7zulMTLX2CW"
      }
    },
    {
      "cell_type": "code",
      "source": [
        "import random\n",
        "import string\n",
        "def generate_password(length=12):\n",
        "  characters = string.ascii_letters + string.digits + string.punctuation\n",
        "  password = ''.join(random.choice(characters) for _ in range(length))\n",
        "  return password\n",
        "   # user input\n",
        "password_length = int(input(\"Enter the desired password length: \"))\n",
        "\n",
        "password = generate_password(password_length)\n",
        "print(\"Generated Password:\", password)"
      ],
      "metadata": {
        "colab": {
          "base_uri": "https://localhost:8080/"
        },
        "id": "WOz4kTfuYDPz",
        "outputId": "8d8b0bc3-777c-4a77-9a88-54206f0dec1a"
      },
      "execution_count": null,
      "outputs": [
        {
          "output_type": "stream",
          "name": "stdout",
          "text": [
            "Enter the desired password length: 109\n",
            "Generated Password: NBZQkAE1YY5`P<!Xl\",O%Z#*/87V&!T[f,a!;[_#QZ63AN)0)*NZyg$q487,JBG\\Zu1N\")Kg=E:&c8!X_aiEM^C_{N]/$qRMG@RATb($;^n#t\n"
          ]
        }
      ]
    }
  ]
}